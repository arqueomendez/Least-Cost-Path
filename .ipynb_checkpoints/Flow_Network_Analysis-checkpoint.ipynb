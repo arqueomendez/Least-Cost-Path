{
 "cells": [
  {
   "cell_type": "code",
   "execution_count": null,
   "id": "098b37a7",
   "metadata": {
    "vscode": {
     "languageId": "plaintext"
    }
   },
   "outputs": [],
   "source": [
    "# ==============================================================================\n",
    "# Celda 1: Importaciones\n",
    "# ==============================================================================\n",
    "import os\n",
    "import logging\n",
    "import matplotlib.pyplot as plt\n",
    "import geopandas as gpd\n",
    "import rasterio\n",
    "from rasterio.plot import show\n",
    "\n",
    "# --- Importar los módulos de nuestro paquete LCP ---\n",
    "from lcp_parallel_tile import config, orchestrator, geoutils, utils\n",
    "\n",
    "print(\"Módulos y librerías cargados exitosamente.\")"
   ]
  },
  {
   "cell_type": "code",
   "execution_count": null,
   "id": "17a3ab49",
   "metadata": {
    "vscode": {
     "languageId": "plaintext"
    }
   },
   "outputs": [],
   "source": [
    "# ==============================================================================\n",
    "# Celda 2: Configuración del Análisis\n",
    "# --- AJUSTE AQUÍ TODOS LOS PARÁMETROS DE SU EJECUCIÓN ---\n",
    "# ==============================================================================\n",
    "import rasterio\n",
    "import math\n",
    "import os\n",
    "\n",
    "# --- Importar el módulo de configuración de nuestro paquete ---\n",
    "from lcp_parallel_tile import config\n",
    "\n",
    "# --- Rutas ---\n",
    "config.BASE_DIR = os.getcwd()\n",
    "config.BASE_PROCESSING_FOLDER = os.path.join(config.BASE_DIR, 'output')\n",
    "config.DATA_DIR = os.path.join(r'G:\\LCP-data')\n",
    "config.COST_RASTER_PATH = os.path.join(config.DATA_DIR, 'cost.tif')\n",
    "\n",
    "# --- [MODIFICACIÓN] Añadir la ruta a la máscara ---\n",
    "# Establecer en None para desactivar el uso de la máscara.\n",
    "config.MASK_SHAPEFILE_PATH = os.path.join(config.DATA_DIR, 'poligono_extendido_cortado_disuelto.shp')\n",
    "\n",
    "# --- [INICIO DE LÓGICA ADAPTATIVA] ---\n",
    "# 1. Defina el tamaño MÁXIMO deseado para cada tile.\n",
    "MAX_TILE_SIZE = 1000\n",
    "\n",
    "# 2. Leemos las dimensiones del raster para calcular el tamaño de tile adaptativo.\n",
    "with rasterio.open(config.COST_RASTER_PATH) as src:\n",
    "    raster_width = src.width\n",
    "    raster_height = src.height\n",
    "\n",
    "# 3. Calculamos el número mínimo de tiles necesarios en cada eje.\n",
    "num_tiles_x = math.ceil(raster_width / MAX_TILE_SIZE)\n",
    "num_tiles_y = math.ceil(raster_height / MAX_TILE_SIZE)\n",
    "\n",
    "# 4. Calculamos el tamaño real del tile para que cubra todo el raster de forma uniforme.\n",
    "adaptive_tile_size = math.ceil(max(raster_width / num_tiles_x, raster_height / num_tiles_y))\n",
    "\n",
    "# 5. Asignamos el valor calculado a la configuración.\n",
    "config.TILE_SIZE = adaptive_tile_size\n",
    "# --- [FIN DE LÓGICA ADAPTATIVA] ---\n",
    "\n",
    "# --- Parámetros de Nodos ---\n",
    "config.NODE_SPACING = 200\n",
    "\n",
    "# --- Parámetros de Cálculo Jerárquico (Valores Corregidos) ---\n",
    "config.DOWNSAMPLING_FACTORS = [32, 20, 10]\n",
    "config.CORRIDOR_BUFFER_PIXELS = 150\n",
    "\n",
    "# --- Parámetros de Ejecución ---\n",
    "config.N_JOBS = -2\n",
    "\n",
    "# Guardamos la configuración de la sesión en una variable global para usarla más tarde\n",
    "LATEST_SESSION_DIR = None \n",
    "\n",
    "print(\"Parámetros de configuración listos para la ejecución.\")\n",
    "print(f\"-> Ruta de la máscara: {config.MASK_SHAPEFILE_PATH if config.MASK_SHAPEFILE_PATH else 'No se usará máscara'}\")\n",
    "print(f\"-> Tamaño máximo de tile solicitado: {MAX_TILE_SIZE}x{MAX_TILE_SIZE} px\")\n",
    "print(f\"-> Dimensiones del raster: {raster_width}x{raster_height} px\")\n",
    "print(f\"-> TAMAÑO DE TILE ADAPTATIVO CALCULADO: {config.TILE_SIZE}x{config.TILE_SIZE} px\")\n",
    "print(f\"Los resultados se guardarán dentro de: {config.BASE_PROCESSING_FOLDER}\")"
   ]
  },
  {
   "cell_type": "code",
   "execution_count": null,
   "id": "f9ed28c0",
   "metadata": {
    "vscode": {
     "languageId": "plaintext"
    }
   },
   "outputs": [],
   "source": [
    "# ==============================================================================\n",
    "# Celda 3: Visualización Previa de la Cuadrícula de Tareas\n",
    "# ==============================================================================\n",
    "\n",
    "# Llamamos a la función de visualización de nuestro paquete. ¡Limpio y simple!\n",
    "geoutils.visualize_tiling_setup(config)"
   ]
  },
  {
   "cell_type": "code",
   "execution_count": null,
   "id": "cbc4b8eb",
   "metadata": {
    "vscode": {
     "languageId": "plaintext"
    }
   },
   "outputs": [],
   "source": [
    "# ==============================================================================\n",
    "# Celda 4: Ejecución del Análisis Paralelo\n",
    "# ==============================================================================\n",
    "\n",
    "# --- Configurar el logger maestro que se mostrará en la consola del notebook ---\n",
    "main_log = logging.getLogger(\"MasterLogger\"); main_log.setLevel(logging.INFO)\n",
    "formatter = logging.Formatter('%(asctime)s - %(levelname)s - %(message)s')\n",
    "if not main_log.handlers:\n",
    "    # Usamos el Tqdm handler de nuestro paquete de utilidades\n",
    "    master_ch = utils.TqdmLoggingHandler(); master_ch.setFormatter(formatter)\n",
    "    main_log.addHandler(master_ch)\n",
    "\n",
    "try:\n",
    "    # --- Llamada principal al orquestador ---\n",
    "    # Le pasamos el objeto de configuración que definimos en la Celda 2.\n",
    "    # El orquestador nos devuelve la ruta a la sesión para poder usarla después.\n",
    "    LATEST_SESSION_DIR = orchestrator.run_analysis(config)\n",
    "    \n",
    "except Exception as e:\n",
    "    main_log.critical(\"Ha ocurrido un error irrecuperable en la ejecución.\", exc_info=True)\n",
    "finally:\n",
    "    main_log.info(\"================== EJECUCIÓN FINALIZADA ==================\\n\\n\")"
   ]
  },
  {
   "cell_type": "code",
   "execution_count": null,
   "id": "dcd68ae7",
   "metadata": {
    "vscode": {
     "languageId": "plaintext"
    }
   },
   "outputs": [],
   "source": [
    "# ==============================================================================\n",
    "# Celda 5: Carga y Visualización de la Red de Flujo Completa\n",
    "# ==============================================================================\n",
    "\n",
    "if LATEST_SESSION_DIR and os.path.exists(LATEST_SESSION_DIR):\n",
    "    final_gpkg_path = os.path.join(LATEST_SESSION_DIR, \"red_de_flujo_completa.gpkg\")\n",
    "    \n",
    "    if os.path.exists(final_gpkg_path):\n",
    "        print(f\"Cargando la red de flujo desde: {final_gpkg_path}\")\n",
    "        network_gdf = gpd.read_file(final_gpkg_path)\n",
    "\n",
    "        with rasterio.open(config.COST_RASTER_PATH) as src:\n",
    "            fig, ax = plt.subplots(figsize=(18, 18))\n",
    "            show(src, ax=ax, cmap='viridis', alpha=0.8) # Visualizar el raster completo\n",
    "            network_gdf.plot(ax=ax, edgecolor='white', linewidth=0.2, alpha=0.5)\n",
    "            ax.set_title(\"Red de Flujo de Menor Coste del Paisaje\", fontsize=16)\n",
    "            plt.show()\n",
    "    else:\n",
    "        print(f\"Análisis completado, pero no se encontró el archivo de resultados fusionado en: {final_gpkg_path}\")\n",
    "else:\n",
    "    print(\"No se ha ejecutado ninguna sesión de análisis todavía. Por favor, ejecute la celda anterior.\")"
   ]
  }
 ],
 "metadata": {
  "kernelspec": {
   "display_name": "Python 3 (ipykernel)",
   "language": "python",
   "name": "python3"
  },
  "language_info": {
   "codemirror_mode": {
    "name": "ipython",
    "version": 3
   },
   "file_extension": ".py",
   "mimetype": "text/x-python",
   "name": "python",
   "nbconvert_exporter": "python",
   "pygments_lexer": "ipython3",
   "version": "3.12.2"
  }
 },
 "nbformat": 4,
 "nbformat_minor": 5
}
